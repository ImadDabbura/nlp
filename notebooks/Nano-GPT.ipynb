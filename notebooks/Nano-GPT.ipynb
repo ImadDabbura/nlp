{
 "cells": [
  {
   "cell_type": "markdown",
   "id": "e0011a96-bde0-45b8-9afb-2af9e9ef9f02",
   "metadata": {},
   "source": [
    "# Imports"
   ]
  },
  {
   "cell_type": "code",
   "execution_count": 2,
   "id": "41cbdadc-3233-409c-9e66-71876c366a8b",
   "metadata": {},
   "outputs": [],
   "source": [
    "import torch\n",
    "import torch.nn as nn\n",
    "import torch.nn.functional as F\n",
    "import torch.optim as opt"
   ]
  },
  {
   "cell_type": "code",
   "execution_count": 3,
   "id": "a1a1e9de-4620-43d8-85f3-5c4914ca0e4a",
   "metadata": {},
   "outputs": [],
   "source": [
    "%load_ext lab_black"
   ]
  },
  {
   "cell_type": "code",
   "execution_count": 4,
   "id": "793425c1-8d39-4158-9489-610ebcaa4758",
   "metadata": {},
   "outputs": [
    {
     "data": {
      "text/plain": [
       "<torch._C.Generator at 0x7fe2eea39750>"
      ]
     },
     "execution_count": 4,
     "metadata": {},
     "output_type": "execute_result"
    }
   ],
   "source": [
    "torch.manual_seed(42)"
   ]
  },
  {
   "cell_type": "markdown",
   "id": "4d0079b2-2097-4fb5-bfd6-42e851439e7b",
   "metadata": {},
   "source": [
    "# Data"
   ]
  },
  {
   "cell_type": "code",
   "execution_count": 4,
   "id": "686b6db3-8141-4275-8adc-45b2fc7f8a98",
   "metadata": {},
   "outputs": [],
   "source": [
    "with open(\"../data/tinyshakespeare.txt\", \"r\", encoding=\"utf-8\") as f:\n",
    "    text = f.read()"
   ]
  },
  {
   "cell_type": "code",
   "execution_count": 5,
   "id": "63604a32-e619-42eb-95ac-c4261de29042",
   "metadata": {},
   "outputs": [
    {
     "name": "stdout",
     "output_type": "stream",
     "text": [
      "1,115,394\n"
     ]
    }
   ],
   "source": [
    "print(f\"{len(text):,}\")"
   ]
  },
  {
   "cell_type": "code",
   "execution_count": 6,
   "id": "93400e35-64f6-4f85-a662-0140bfc665ee",
   "metadata": {},
   "outputs": [
    {
     "name": "stdout",
     "output_type": "stream",
     "text": [
      "First Citizen:\n",
      "Before we proceed any further, hear me speak.\n",
      "\n",
      "All:\n",
      "Speak, speak.\n",
      "\n",
      "First Citizen:\n",
      "You\n"
     ]
    }
   ],
   "source": [
    "print(text[:100])"
   ]
  },
  {
   "cell_type": "code",
   "execution_count": 9,
   "id": "6502cac7-30db-44f6-8af1-109f5eae9c22",
   "metadata": {},
   "outputs": [
    {
     "data": {
      "text/plain": [
       "(65, \"\\n !$&',-.3:;?ABCDEFGHIJKLMNOPQRSTUVWXYZabcdefghijklmnopqrstuvwxyz\")"
      ]
     },
     "execution_count": 9,
     "metadata": {},
     "output_type": "execute_result"
    }
   ],
   "source": [
    "vocab = sorted(list(set(text)))\n",
    "vocab_sz = len(vocab)\n",
    "vocab_sz, \"\".join(vocab)"
   ]
  },
  {
   "cell_type": "code",
   "execution_count": 10,
   "id": "9952f1f7-b1c7-4f93-9a81-2df58c97ffb8",
   "metadata": {},
   "outputs": [],
   "source": [
    "char_to_idx = {char: idx for idx, char in enumerate(vocab)}\n",
    "idx_to_char = {idx: char for char, idx in char_to_idx.items()}"
   ]
  },
  {
   "cell_type": "code",
   "execution_count": 11,
   "id": "7baebbde-564c-47d4-9703-4c30507bc981",
   "metadata": {},
   "outputs": [],
   "source": [
    "def encode(string):\n",
    "    return [char_to_idx[char] for char in string]\n",
    "\n",
    "\n",
    "def decode(idxs):\n",
    "    return \"\".join([idx_to_char[idx] for idx in idxs])"
   ]
  },
  {
   "cell_type": "code",
   "execution_count": 12,
   "id": "080108c4-9078-4c99-9a8a-bbcdafe595c9",
   "metadata": {},
   "outputs": [
    {
     "data": {
      "text/plain": [
       "([46, 47, 1, 47, 51, 39, 42], 'hi imad')"
      ]
     },
     "execution_count": 12,
     "metadata": {},
     "output_type": "execute_result"
    }
   ],
   "source": [
    "encode(\"hi imad\"), decode(encode(\"hi imad\"))"
   ]
  },
  {
   "cell_type": "code",
   "execution_count": 13,
   "id": "6bca7dcc-cb9b-403e-a637-5466322a350f",
   "metadata": {},
   "outputs": [
    {
     "data": {
      "text/plain": [
       "(torch.Size([1115394]),\n",
       " torch.int64,\n",
       " tensor([18, 47, 56, 57, 58,  1, 15, 47, 58, 47]))"
      ]
     },
     "execution_count": 13,
     "metadata": {},
     "output_type": "execute_result"
    }
   ],
   "source": [
    "data = torch.tensor(encode(text))\n",
    "data.shape, data.dtype, data[:10]"
   ]
  },
  {
   "cell_type": "code",
   "execution_count": 14,
   "id": "4b992dfb-8cf0-41b1-9526-20d9b9acde2f",
   "metadata": {},
   "outputs": [],
   "source": [
    "block_sz = 8\n",
    "batch_sz = 32"
   ]
  },
  {
   "cell_type": "code",
   "execution_count": 15,
   "id": "1d411ba1-32eb-4875-bb3f-e308fe567e80",
   "metadata": {},
   "outputs": [],
   "source": [
    "def get_batch(data, block_sz, batch_sz):\n",
    "    \"\"\"Returns batch of data in the form of batch_sz x block_sz.\"\"\"\n",
    "    idxs = torch.randint(len(data) - block_sz, (batch_sz,))\n",
    "    x = torch.stack([data[idx : idx + block_sz] for idx in idxs])\n",
    "    y = torch.stack([data[idx + 1 : idx + block_sz + 1] for idx in idxs])\n",
    "    return x, y"
   ]
  },
  {
   "cell_type": "code",
   "execution_count": 18,
   "id": "64f772d8-3b77-43b2-af16-448ef859f230",
   "metadata": {},
   "outputs": [
    {
     "data": {
      "text/plain": [
       "(tensor([[50, 50, 53, 61, 43, 56, 57,  1],\n",
       "         [24, 13, 26, 16, 10,  0, 20, 47],\n",
       "         [46, 56, 47, 57, 58, 47, 39, 52],\n",
       "         [57, 58,  1, 52, 53, 58,  1, 58]]),\n",
       " tensor([[50, 53, 61, 43, 56, 57,  1, 21],\n",
       "         [13, 26, 16, 10,  0, 20, 47, 57],\n",
       "         [56, 47, 57, 58, 47, 39, 52,  1],\n",
       "         [58,  1, 52, 53, 58,  1, 58, 53]]))"
      ]
     },
     "execution_count": 18,
     "metadata": {},
     "output_type": "execute_result"
    }
   ],
   "source": [
    "xb, yb = get_batch(data, block_sz, 4)\n",
    "xb, yb"
   ]
  },
  {
   "cell_type": "code",
   "execution_count": 20,
   "id": "a0010cab-0cef-474d-9919-1e53d20ddef2",
   "metadata": {},
   "outputs": [
    {
     "name": "stdout",
     "output_type": "stream",
     "text": [
      "when input is [50] the target: 50\n",
      "when input is [50, 50] the target: 53\n",
      "when input is [50, 50, 53] the target: 61\n",
      "when input is [50, 50, 53, 61] the target: 43\n",
      "when input is [50, 50, 53, 61, 43] the target: 56\n",
      "when input is [50, 50, 53, 61, 43, 56] the target: 57\n",
      "when input is [50, 50, 53, 61, 43, 56, 57] the target: 1\n",
      "when input is [50, 50, 53, 61, 43, 56, 57, 1] the target: 21\n",
      "when input is [24] the target: 13\n",
      "when input is [24, 13] the target: 26\n",
      "when input is [24, 13, 26] the target: 16\n",
      "when input is [24, 13, 26, 16] the target: 10\n",
      "when input is [24, 13, 26, 16, 10] the target: 0\n",
      "when input is [24, 13, 26, 16, 10, 0] the target: 20\n",
      "when input is [24, 13, 26, 16, 10, 0, 20] the target: 47\n",
      "when input is [24, 13, 26, 16, 10, 0, 20, 47] the target: 57\n",
      "when input is [46] the target: 56\n",
      "when input is [46, 56] the target: 47\n",
      "when input is [46, 56, 47] the target: 57\n",
      "when input is [46, 56, 47, 57] the target: 58\n",
      "when input is [46, 56, 47, 57, 58] the target: 47\n",
      "when input is [46, 56, 47, 57, 58, 47] the target: 39\n",
      "when input is [46, 56, 47, 57, 58, 47, 39] the target: 52\n",
      "when input is [46, 56, 47, 57, 58, 47, 39, 52] the target: 1\n",
      "when input is [57] the target: 58\n",
      "when input is [57, 58] the target: 1\n",
      "when input is [57, 58, 1] the target: 52\n",
      "when input is [57, 58, 1, 52] the target: 53\n",
      "when input is [57, 58, 1, 52, 53] the target: 58\n",
      "when input is [57, 58, 1, 52, 53, 58] the target: 1\n",
      "when input is [57, 58, 1, 52, 53, 58, 1] the target: 58\n",
      "when input is [57, 58, 1, 52, 53, 58, 1, 58] the target: 53\n"
     ]
    }
   ],
   "source": [
    "# What the input to the model would actually look like\n",
    "for b in range(len(xb)):  # batch dimension\n",
    "    for t in range(block_sz):  # time dimension\n",
    "        context = xb[b, : t + 1]\n",
    "        target = yb[b, t]\n",
    "        print(f\"when input is {context.tolist()} the target: {target}\")"
   ]
  },
  {
   "cell_type": "markdown",
   "id": "75aacd80-4d4a-46db-991a-7debdcb9a918",
   "metadata": {},
   "source": [
    "The effective batch size is actually batch_sz * block_sz"
   ]
  },
  {
   "cell_type": "markdown",
   "id": "4ba97b51-8e51-40e8-97b4-abee15f432f3",
   "metadata": {},
   "source": [
    "# Simple Bigram Model"
   ]
  },
  {
   "cell_type": "code",
   "execution_count": 61,
   "id": "3bca9961-542f-4be5-b82e-aeb3531c6294",
   "metadata": {},
   "outputs": [],
   "source": [
    "batch_sz = 32\n",
    "lr = 1e-3\n",
    "block_sz = 8\n",
    "n_iters = 10_000"
   ]
  },
  {
   "cell_type": "code",
   "execution_count": 62,
   "id": "7029968c-c5cd-41df-bc5f-529f61b3937a",
   "metadata": {},
   "outputs": [],
   "source": [
    "class BigramLM(nn.Module):\n",
    "    def __init__(self, vocab_sz, emb_dim):\n",
    "        super().__init__()\n",
    "        self.embedding = nn.Embedding(vocab_sz, emb_dim)\n",
    "\n",
    "    def forward(self, x, targets=None):\n",
    "        logits = self.embedding(x)  # batch_sz x block_sz x emb_dim\n",
    "        if targets is not None:\n",
    "            B, T, C = logits.shape\n",
    "            logits = logits.view(B * T, C)  # batch_sz * block_sz x emb_dim\n",
    "            targets = targets.view(B * T)  # 1D array: batch_sz x block_sz\n",
    "            loss = F.cross_entropy(logits, targets)\n",
    "        else:\n",
    "            loss = None\n",
    "        return logits, loss\n",
    "\n",
    "    def generate(self, x, max_new_tokens):\n",
    "        for _ in range(max_new_tokens):\n",
    "            # get the predictions. It doesn't matter how big is T, we always\n",
    "            # look at the previous character to predict the next character\n",
    "            # But the function is meant to be general so it can be used later\n",
    "            # when more previous characters will be used to predict the next\n",
    "            # character\n",
    "            logits, _ = self(x)  # Initially B x T x C\n",
    "            # focus only on the last time step\n",
    "            logits = logits[:, -1, :]  # becomes (B, C)\n",
    "            probs = F.softmax(logits, dim=-1)  # (B, C)\n",
    "            next_char = torch.multinomial(probs, num_samples=1)  # (B, 1)\n",
    "            x = torch.cat((x, next_char), dim=1)  # (B, T+1)\n",
    "        return x"
   ]
  },
  {
   "cell_type": "code",
   "execution_count": 63,
   "id": "bf62843b-1119-466f-bcfc-87d8503c5d51",
   "metadata": {},
   "outputs": [
    {
     "data": {
      "text/plain": [
       "(torch.Size([32, 65]), tensor(4.8091, grad_fn=<NllLossBackward0>))"
      ]
     },
     "execution_count": 63,
     "metadata": {},
     "output_type": "execute_result"
    }
   ],
   "source": [
    "model = BigramLM(vocab_sz, vocab_sz)\n",
    "logits, loss = model(xb, yb)\n",
    "logits.shape, loss"
   ]
  },
  {
   "cell_type": "code",
   "execution_count": 64,
   "id": "5357caf5-2fff-42b0-ab83-74ae77f3bbbd",
   "metadata": {},
   "outputs": [
    {
     "name": "stdout",
     "output_type": "stream",
     "text": [
      "\n",
      "w$U\n",
      "\n",
      "ga O'rbMhYcI--\n",
      "ih!Z:JLH?ljX&whLGJSbqRNE:kwgwSrBAmpXZBCoF&dHU-GjSiMhhuiu;cOby3upGjyuffqkA'?kqMhq\n"
     ]
    }
   ],
   "source": [
    "print(decode(model.generate(torch.zeros((1, 1), dtype=torch.int), 100)[0].tolist()))"
   ]
  },
  {
   "cell_type": "code",
   "execution_count": 65,
   "id": "676c756d-2165-4f1c-8c38-e5744debfc49",
   "metadata": {},
   "outputs": [],
   "source": [
    "optimizer = opt.AdamW(model.parameters(), lr=1e-3)"
   ]
  },
  {
   "cell_type": "code",
   "execution_count": 66,
   "id": "23be411c-bb5a-431d-8714-dd3669131665",
   "metadata": {},
   "outputs": [],
   "source": [
    "for _ in range(n_iters):\n",
    "    x, y = get_batch(data, batch_sz, block_sz)\n",
    "    logits, loss = model(x, y)\n",
    "    optimizer.zero_grad(set_to_none=True)\n",
    "    loss.backward()\n",
    "    optimizer.step()"
   ]
  },
  {
   "cell_type": "code",
   "execution_count": 67,
   "id": "d66eaa17-6a67-4659-bae5-e84668308188",
   "metadata": {},
   "outputs": [
    {
     "data": {
      "text/plain": [
       "tensor(2.4651, grad_fn=<NllLossBackward0>)"
      ]
     },
     "execution_count": 67,
     "metadata": {},
     "output_type": "execute_result"
    }
   ],
   "source": [
    "loss"
   ]
  },
  {
   "cell_type": "code",
   "execution_count": 1,
   "id": "978032e0-c37c-4308-820e-5da81df0bd66",
   "metadata": {},
   "outputs": [
    {
     "ename": "NameError",
     "evalue": "name 'decode' is not defined",
     "output_type": "error",
     "traceback": [
      "\u001b[0;31m---------------------------------------------------------------------------\u001b[0m",
      "\u001b[0;31mNameError\u001b[0m                                 Traceback (most recent call last)",
      "Input \u001b[0;32mIn [1]\u001b[0m, in \u001b[0;36m<cell line: 1>\u001b[0;34m()\u001b[0m\n\u001b[0;32m----> 1\u001b[0m \u001b[38;5;28mprint\u001b[39m(\u001b[43mdecode\u001b[49m(model\u001b[38;5;241m.\u001b[39mgenerate(torch\u001b[38;5;241m.\u001b[39mzeros((\u001b[38;5;241m1\u001b[39m, \u001b[38;5;241m1\u001b[39m), dtype\u001b[38;5;241m=\u001b[39mtorch\u001b[38;5;241m.\u001b[39mint), \u001b[38;5;241m1000\u001b[39m)[\u001b[38;5;241m0\u001b[39m]\u001b[38;5;241m.\u001b[39mtolist()))\n",
      "\u001b[0;31mNameError\u001b[0m: name 'decode' is not defined"
     ]
    }
   ],
   "source": [
    "print(decode(model.generate(torch.zeros((1, 1), dtype=torch.int), 1000)[0].tolist()))"
   ]
  },
  {
   "cell_type": "markdown",
   "id": "dd890cc5-c810-4c91-8399-6ffb08938032",
   "metadata": {},
   "source": [
    "# NanoGPT"
   ]
  },
  {
   "cell_type": "code",
   "execution_count": 13,
   "id": "19b9bc5c-5e64-4046-b893-9e72b03ad26b",
   "metadata": {},
   "outputs": [
    {
     "data": {
      "text/plain": [
       "tensor([[[99]]])"
      ]
     },
     "execution_count": 13,
     "metadata": {},
     "output_type": "execute_result"
    }
   ],
   "source": [
    "w = torch.randint(100, (1, 1, 1))\n",
    "w"
   ]
  },
  {
   "cell_type": "code",
   "execution_count": 14,
   "id": "a60231f3-2efd-49a2-9f0d-f76c682c8eaa",
   "metadata": {},
   "outputs": [
    {
     "data": {
      "text/plain": [
       "tensor([[1., 0., 0., 0., 0., 0., 0., 0.],\n",
       "        [1., 1., 0., 0., 0., 0., 0., 0.],\n",
       "        [1., 1., 1., 0., 0., 0., 0., 0.],\n",
       "        [1., 1., 1., 1., 0., 0., 0., 0.],\n",
       "        [1., 1., 1., 1., 1., 0., 0., 0.],\n",
       "        [1., 1., 1., 1., 1., 1., 0., 0.],\n",
       "        [1., 1., 1., 1., 1., 1., 1., 0.],\n",
       "        [1., 1., 1., 1., 1., 1., 1., 1.]])"
      ]
     },
     "execution_count": 14,
     "metadata": {},
     "output_type": "execute_result"
    }
   ],
   "source": [
    "tril = torch.tril(torch.ones(8, 8))\n",
    "tril"
   ]
  },
  {
   "cell_type": "code",
   "execution_count": 15,
   "id": "93ef076c-755f-4b61-bc80-8643fd836f30",
   "metadata": {},
   "outputs": [
    {
     "ename": "RuntimeError",
     "evalue": "value cannot be converted to type int64_t without overflow",
     "output_type": "error",
     "traceback": [
      "\u001b[0;31m---------------------------------------------------------------------------\u001b[0m",
      "\u001b[0;31mRuntimeError\u001b[0m                              Traceback (most recent call last)",
      "Input \u001b[0;32mIn [15]\u001b[0m, in \u001b[0;36m<cell line: 1>\u001b[0;34m()\u001b[0m\n\u001b[0;32m----> 1\u001b[0m \u001b[43mw\u001b[49m\u001b[38;5;241;43m.\u001b[39;49m\u001b[43mmasked_fill\u001b[49m\u001b[43m(\u001b[49m\u001b[43mtril\u001b[49m\u001b[43m \u001b[49m\u001b[38;5;241;43m==\u001b[39;49m\u001b[43m \u001b[49m\u001b[38;5;241;43m0\u001b[39;49m\u001b[43m,\u001b[49m\u001b[43m \u001b[49m\u001b[38;5;28;43mfloat\u001b[39;49m\u001b[43m(\u001b[49m\u001b[38;5;124;43m\"\u001b[39;49m\u001b[38;5;124;43minf\u001b[39;49m\u001b[38;5;124;43m\"\u001b[39;49m\u001b[43m)\u001b[49m\u001b[43m)\u001b[49m\n",
      "\u001b[0;31mRuntimeError\u001b[0m: value cannot be converted to type int64_t without overflow"
     ]
    }
   ],
   "source": [
    "w.masked_fill(tril == 0, float(\"inf\"))"
   ]
  },
  {
   "cell_type": "code",
   "execution_count": null,
   "id": "43f3e3c9-307c-435f-8ce0-577ccac5c943",
   "metadata": {},
   "outputs": [],
   "source": []
  }
 ],
 "metadata": {
  "kernelspec": {
   "display_name": "Python 3 (ipykernel)",
   "language": "python",
   "name": "python3"
  },
  "language_info": {
   "codemirror_mode": {
    "name": "ipython",
    "version": 3
   },
   "file_extension": ".py",
   "mimetype": "text/x-python",
   "name": "python",
   "nbconvert_exporter": "python",
   "pygments_lexer": "ipython3",
   "version": "3.10.9"
  }
 },
 "nbformat": 4,
 "nbformat_minor": 5
}
